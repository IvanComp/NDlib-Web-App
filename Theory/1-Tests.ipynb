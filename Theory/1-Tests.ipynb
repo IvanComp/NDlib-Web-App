{
 "cells": [
  {
   "cell_type": "code",
   "execution_count": 1,
   "id": "cf685c59-4078-46a8-894b-40c72132da31",
   "metadata": {},
   "outputs": [],
   "source": [
    "import ndlib"
   ]
  },
  {
   "cell_type": "code",
   "execution_count": null,
   "id": "bc7e5b60-3bbc-483f-a0bc-716fe48b2426",
   "metadata": {},
   "outputs": [],
   "source": []
  }
 ],
 "metadata": {
  "kernelspec": {
   "display_name": "Python 3 (ipykernel)",
   "language": "python",
   "name": "python3"
  },
  "language_info": {
   "codemirror_mode": {
    "name": "ipython",
    "version": 3
   },
   "file_extension": ".py",
   "mimetype": "text/x-python",
   "name": "python",
   "nbconvert_exporter": "python",
   "pygments_lexer": "ipython3",
   "version": "3.9.13"
  }
 },
 "nbformat": 4,
 "nbformat_minor": 5
}
